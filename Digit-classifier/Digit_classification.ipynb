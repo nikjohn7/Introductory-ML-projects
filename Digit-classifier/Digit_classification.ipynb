{
  "nbformat": 4,
  "nbformat_minor": 0,
  "metadata": {
    "colab": {
      "name": "Digit-classification.ipynb",
      "provenance": []
    },
    "kernelspec": {
      "name": "python3",
      "display_name": "Python 3"
    },
    "accelerator": "GPU"
  },
  "cells": [
    {
      "cell_type": "code",
      "metadata": {
        "id": "ZROJo9dMUwEh",
        "outputId": "d1ef930b-0e96-4ab0-e6b9-9eaf22e1b116",
        "colab": {
          "base_uri": "https://localhost:8080/",
          "height": 34
        }
      },
      "source": [
        "from google.colab import drive\n",
        "drive.mount('/content/drive',force_remount=True)"
      ],
      "execution_count": null,
      "outputs": [
        {
          "output_type": "stream",
          "text": [
            "Mounted at /content/drive\n"
          ],
          "name": "stdout"
        }
      ]
    },
    {
      "cell_type": "code",
      "metadata": {
        "id": "UbV5spEeWCWE",
        "outputId": "de4ac54e-e817-44e2-9baf-f78f9a1694df",
        "colab": {
          "base_uri": "https://localhost:8080/",
          "height": 67
        }
      },
      "source": [
        "!ls drive/My\\ Drive/machine-learning/projects/digit-recognizer"
      ],
      "execution_count": null,
      "outputs": [
        {
          "output_type": "stream",
          "text": [
            " data\t\t\t\t  train.csv.zip\n",
            " test.csv.zip\t\t\t 'train.csv.zip (Unzipped Files)'\n",
            "'test.csv.zip (Unzipped Files)'\n"
          ],
          "name": "stdout"
        }
      ]
    },
    {
      "cell_type": "code",
      "metadata": {
        "id": "raZoF17fWCT5",
        "outputId": "52d97600-7d41-4d36-c95c-185dfa03f584",
        "colab": {
          "base_uri": "https://localhost:8080/",
          "height": 34
        }
      },
      "source": [
        "%cd drive/My\\ Drive/machine-learning/projects/digit-recognizer"
      ],
      "execution_count": null,
      "outputs": [
        {
          "output_type": "stream",
          "text": [
            "/content/drive/My Drive/machine-learning/projects/digit-recognizer\n"
          ],
          "name": "stdout"
        }
      ]
    },
    {
      "cell_type": "markdown",
      "metadata": {
        "id": "njuw2NzyDHMp"
      },
      "source": [
        "#### If you are using Google colab, then only will you need to run the above 3 cells, and change the path accordingly, else you can start your code from here"
      ]
    },
    {
      "cell_type": "code",
      "metadata": {
        "id": "FnhoYXaVWCRr"
      },
      "source": [
        "import numpy as np \n",
        "import pandas as pd"
      ],
      "execution_count": null,
      "outputs": []
    },
    {
      "cell_type": "code",
      "metadata": {
        "id": "tQlWIyK8WCOw"
      },
      "source": [
        "import tensorflow as tf\n",
        "import matplotlib.pyplot as plt\n",
        "from tensorflow.keras import layers, models\n",
        "from sklearn.model_selection import train_test_split\n",
        "\n",
        "from tensorflow.keras.preprocessing import image\n",
        "from tensorflow.keras.preprocessing.image import ImageDataGenerator"
      ],
      "execution_count": null,
      "outputs": []
    },
    {
      "cell_type": "code",
      "metadata": {
        "id": "2Btt3ka-WCMa"
      },
      "source": [
        "train_data = pd.read_csv(\"./data/train.csv\")\n",
        "train_label = train_data.pop('label')\n",
        "\n",
        "test_data = pd.read_csv(\"./data/test.csv\")\n",
        "test_label=test_data.pop('Label')"
      ],
      "execution_count": null,
      "outputs": []
    },
    {
      "cell_type": "code",
      "metadata": {
        "id": "fSKpBdjDWCJ6",
        "outputId": "826ab676-6ba3-4ab6-9f1c-e1d8f13cf622",
        "colab": {
          "base_uri": "https://localhost:8080/",
          "height": 279
        }
      },
      "source": [
        "train_label.value_counts().plot.bar()"
      ],
      "execution_count": null,
      "outputs": [
        {
          "output_type": "execute_result",
          "data": {
            "text/plain": [
              "<matplotlib.axes._subplots.AxesSubplot at 0x7faa360197b8>"
            ]
          },
          "metadata": {
            "tags": []
          },
          "execution_count": 8
        },
        {
          "output_type": "display_data",
          "data": {
            "image/png": "[encoded data removed]",
            "text/plain": [
              "<Figure size 432x288 with 1 Axes>"
            ]
          },
          "metadata": {
            "tags": [],
            "needs_background": "light"
          }
        }
      ]
    },
    {
      "cell_type": "code",
      "metadata": {
        "id": "fZgr5337dwSh",
        "outputId": "574929d2-5a7e-461e-c405-140d1f3036bc",
        "colab": {
          "base_uri": "https://localhost:8080/",
          "height": 279
        }
      },
      "source": [
        "test_label.value_counts().plot.bar()"
      ],
      "execution_count": null,
      "outputs": [
        {
          "output_type": "execute_result",
          "data": {
            "text/plain": [
              "<matplotlib.axes._subplots.AxesSubplot at 0x7faa35f77400>"
            ]
          },
          "metadata": {
            "tags": []
          },
          "execution_count": 9
        },
        {
          "output_type": "display_data",
          "data": {
            "image/png": "[encoded data removed]",
            "text/plain": [
              "<Figure size 432x288 with 1 Axes>"
            ]
          },
          "metadata": {
            "tags": [],
            "needs_background": "light"
          }
        }
      ]
    },
    {
      "cell_type": "code",
      "metadata": {
        "id": "CSfDNmaNWCEx",
        "outputId": "f8d9c9c4-cf2f-4a1f-b758-a6c3459a76fb",
        "colab": {
          "base_uri": "https://localhost:8080/",
          "height": 34
        }
      },
      "source": [
        "print(train_data.shape)"
      ],
      "execution_count": null,
      "outputs": [
        {
          "output_type": "stream",
          "text": [
            "(42000, 784)\n"
          ],
          "name": "stdout"
        }
      ]
    },
    {
      "cell_type": "code",
      "metadata": {
        "id": "HdKT_YQsWCCR"
      },
      "source": [
        "train_data = train_data.values.reshape(train_data.shape[0], 28, 28)"
      ],
      "execution_count": null,
      "outputs": []
    },
    {
      "cell_type": "code",
      "metadata": {
        "id": "FaCfjsVOWB_Y"
      },
      "source": [
        "train_data = train_data / 255.0"
      ],
      "execution_count": null,
      "outputs": []
    },
    {
      "cell_type": "code",
      "metadata": {
        "id": "aPNioFxLYYzg",
        "outputId": "191633e8-d901-4039-80ee-d570e0e3eefc",
        "colab": {
          "base_uri": "https://localhost:8080/",
          "height": 34
        }
      },
      "source": [
        "print(test_data.shape)"
      ],
      "execution_count": null,
      "outputs": [
        {
          "output_type": "stream",
          "text": [
            "(28000, 784)\n"
          ],
          "name": "stdout"
        }
      ]
    },
    {
      "cell_type": "code",
      "metadata": {
        "id": "Eb2YYZ_oWB7O"
      },
      "source": [
        "test_data = test_data.values.reshape(test_data.shape[0], 28,28)\n",
        "test_data = test_data / 255.0"
      ],
      "execution_count": null,
      "outputs": []
    },
    {
      "cell_type": "code",
      "metadata": {
        "id": "7oodBWxiWB2d",
        "outputId": "bdf13c62-7d97-458a-aae9-2f5798251156",
        "colab": {
          "base_uri": "https://localhost:8080/",
          "height": 469
        }
      },
      "source": [
        "fig = plt.figure(figsize=(6,8))\n",
        "for i in range(1, 10):\n",
        "    fig.add_subplot(3,3,i)\n",
        "    plt.imshow(train_data[i],cmap='gray')\n",
        "    plt.grid(False)\n",
        "    plt.title(train_label[i])"
      ],
      "execution_count": null,
      "outputs": [
        {
          "output_type": "display_data",
          "data": {
            "image/png": "[encoded data removed]",
            "text/plain": [
              "<Figure size 432x576 with 9 Axes>"
            ]
          },
          "metadata": {
            "tags": [],
            "needs_background": "light"
          }
        }
      ]
    },
    {
      "cell_type": "code",
      "metadata": {
        "id": "blO40tdDWBwk"
      },
      "source": [
        "model = tf.keras.Sequential([\n",
        "    tf.keras.layers.Flatten(input_shape=(28,28)),\n",
        "    tf.keras.layers.Dense(128, activation = \"relu\"),\n",
        "    tf.keras.layers.Dense(10, activation = \"softmax\")\n",
        "])"
      ],
      "execution_count": null,
      "outputs": []
    },
    {
      "cell_type": "code",
      "metadata": {
        "id": "_awjsx08WBor"
      },
      "source": [
        "model.compile(optimizer = \"adam\", loss = tf.losses.sparse_categorical_crossentropy, metrics = ['accuracy'])"
      ],
      "execution_count": null,
      "outputs": []
    },
    {
      "cell_type": "code",
      "metadata": {
        "id": "q4I_3FijWBfn",
        "outputId": "33ad746b-b650-434c-ea5f-b7806be65741",
        "colab": {
          "base_uri": "https://localhost:8080/",
          "height": 353
        }
      },
      "source": [
        "trainer = model.fit(train_data, train_label, epochs = 10)"
      ],
      "execution_count": null,
      "outputs": [
        {
          "output_type": "stream",
          "text": [
            "Epoch 1/10\n",
            "1313/1313 [==============================] - 3s 2ms/step - loss: 0.2881 - accuracy: 0.9178\n",
            "Epoch 2/10\n",
            "1313/1313 [==============================] - 2s 2ms/step - loss: 0.1270 - accuracy: 0.9625\n",
            "Epoch 3/10\n",
            "1313/1313 [==============================] - 2s 2ms/step - loss: 0.0869 - accuracy: 0.9740\n",
            "Epoch 4/10\n",
            "1313/1313 [==============================] - 2s 2ms/step - loss: 0.0643 - accuracy: 0.9802\n",
            "Epoch 5/10\n",
            "1313/1313 [==============================] - 3s 2ms/step - loss: 0.0491 - accuracy: 0.9852\n",
            "Epoch 6/10\n",
            "1313/1313 [==============================] - 2s 2ms/step - loss: 0.0392 - accuracy: 0.9881\n",
            "Epoch 7/10\n",
            "1313/1313 [==============================] - 2s 2ms/step - loss: 0.0310 - accuracy: 0.9906\n",
            "Epoch 8/10\n",
            "1313/1313 [==============================] - 3s 2ms/step - loss: 0.0239 - accuracy: 0.9931\n",
            "Epoch 9/10\n",
            "1313/1313 [==============================] - 2s 2ms/step - loss: 0.0203 - accuracy: 0.9938\n",
            "Epoch 10/10\n",
            "1313/1313 [==============================] - 3s 2ms/step - loss: 0.0158 - accuracy: 0.9956\n"
          ],
          "name": "stdout"
        }
      ]
    },
    {
      "cell_type": "code",
      "metadata": {
        "id": "oEGsEENdWBVs"
      },
      "source": [
        "def plot_training(history):\n",
        "    fig, axs = plt.subplots(1,2,figsize=(16,5)) \n",
        "    axs[0].plot(history.history['accuracy'], 'c') \n",
        "    axs[0].set_title('Model Accuracy') \n",
        "    axs[0].set_ylabel('Accuracy') \n",
        "    axs[0].set_xlabel('Epoch') \n",
        "    axs[0].legend(['train', 'validate'], loc='upper left') \n",
        "    \n",
        "    axs[1].plot(history.history['loss'], 'c') \n",
        "    axs[1].set_title('Model Loss') \n",
        "    axs[1].set_ylabel('Loss') \n",
        "    axs[1].set_xlabel('Epoch') \n",
        "    axs[1].legend(['train', 'validate'], loc='upper right') \n",
        "    plt.show()"
      ],
      "execution_count": null,
      "outputs": []
    },
    {
      "cell_type": "code",
      "metadata": {
        "id": "1H4yvRpAWBCh",
        "outputId": "a51f35d6-3894-4a69-9622-5a6c789cfc53",
        "colab": {
          "base_uri": "https://localhost:8080/",
          "height": 387
        }
      },
      "source": [
        "print(trainer.history)\n",
        "plot_training(trainer)"
      ],
      "execution_count": null,
      "outputs": [
        {
          "output_type": "stream",
          "text": [
            "{'loss': [0.288144052028656, 0.12698937952518463, 0.08688236027956009, 0.06433343887329102, 0.04907843470573425, 0.03922127187252045, 0.030950965359807014, 0.023936983197927475, 0.020315976813435555, 0.015785209834575653], 'accuracy': [0.9177857041358948, 0.9624999761581421, 0.9739523530006409, 0.9801666736602783, 0.9852142930030823, 0.988095223903656, 0.9906428456306458, 0.9930952191352844, 0.9938333630561829, 0.9955952167510986]}\n"
          ],
          "name": "stdout"
        },
        {
          "output_type": "display_data",
          "data": {
            "image/png": "[encoded data removed]",
            "text/plain": [
              "<Figure size 1152x360 with 2 Axes>"
            ]
          },
          "metadata": {
            "tags": [],
            "needs_background": "light"
          }
        }
      ]
    },
    {
      "cell_type": "code",
      "metadata": {
        "id": "8QBONEbPajE5",
        "outputId": "bd8d7442-30e3-4e45-de0a-a6ccadfd0e5a",
        "colab": {
          "base_uri": "https://localhost:8080/",
          "height": 539
        }
      },
      "source": [
        "test_result = model.predict_classes(test_data)\n",
        "fig = plt.figure(figsize=(6,8))\n",
        "for i in range(1, 10):\n",
        "    image = test_data[i+10]\n",
        "    label = test_result[i+10]\n",
        "    fig.add_subplot(3,3,i)\n",
        "    plt.imshow(image,cmap='gray')\n",
        "    plt.grid(False)\n",
        "    plt.title(label)"
      ],
      "execution_count": null,
      "outputs": [
        {
          "output_type": "stream",
          "text": [
            "WARNING:tensorflow:From <ipython-input-21-1c5e50f08b62>:1: Sequential.predict_classes (from tensorflow.python.keras.engine.sequential) is deprecated and will be removed after 2021-01-01.\n",
            "Instructions for updating:\n",
            "Please use instead:* `np.argmax(model.predict(x), axis=-1)`,   if your model does multi-class classification   (e.g. if it uses a `softmax` last-layer activation).* `(model.predict(x) > 0.5).astype(\"int32\")`,   if your model does binary classification   (e.g. if it uses a `sigmoid` last-layer activation).\n"
          ],
          "name": "stdout"
        },
        {
          "output_type": "display_data",
          "data": {
            "image/png": "[encoded data removed]",
            "text/plain": [
              "<Figure size 432x576 with 9 Axes>"
            ]
          },
          "metadata": {
            "tags": [],
            "needs_background": "light"
          }
        }
      ]
    },
    {
      "cell_type": "code",
      "metadata": {
        "id": "e5LODZgNapHh",
        "outputId": "8188bf17-902d-4741-b43e-e0b410a6b18c",
        "colab": {
          "base_uri": "https://localhost:8080/",
          "height": 50
        }
      },
      "source": [
        "score = model.evaluate(test_data, test_label, verbose = 0) \n",
        "\n",
        "print('Test loss:', score[0]) \n",
        "print('Test accuracy:', score[1])"
      ],
      "execution_count": null,
      "outputs": [
        {
          "output_type": "stream",
          "text": [
            "Test loss: 0.09790273755788803\n",
            "Test accuracy: 0.9741071462631226\n"
          ],
          "name": "stdout"
        }
      ]
    }
  ]
}